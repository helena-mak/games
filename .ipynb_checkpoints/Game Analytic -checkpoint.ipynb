{
 "cells": [
  {
   "cell_type": "markdown",
   "metadata": {},
   "source": [
    "Импортируем необходимые библиотеки для работы над проектом"
   ]
  },
  {
   "cell_type": "code",
   "execution_count": 104,
   "metadata": {},
   "outputs": [
    {
     "name": "stderr",
     "output_type": "stream",
     "text": [
      "/opt/tljh/user/lib/python3.7/site-packages/outdated/utils.py:18: OutdatedCacheFailedWarning: Failed to use cache while checking for outdated package.\n",
      "Set the environment variable OUTDATED_RAISE_EXCEPTION=1 for a full traceback.\n",
      "Set the environment variable OUTDATED_IGNORE=1 to disable these warnings.\n",
      "  **kwargs\n",
      "/opt/tljh/user/lib/python3.7/site-packages/outdated/utils.py:18: OutdatedPackageWarning: The package outdated is out of date. Your version is 0.2.1, the latest is 0.2.2.\n",
      "Set the environment variable OUTDATED_IGNORE=1 to disable these warnings.\n",
      "  **kwargs\n",
      "/opt/tljh/user/lib/python3.7/site-packages/outdated/utils.py:18: OutdatedPackageWarning: The package pingouin is out of date. Your version is 0.4.0, the latest is 0.5.4.\n",
      "Set the environment variable OUTDATED_IGNORE=1 to disable these warnings.\n",
      "  **kwargs\n"
     ]
    }
   ],
   "source": [
    "import numpy as np\n",
    "import pandas as pd\n",
    "\n",
    "\n",
    "import requests\n",
    "from urllib.parse import urlencode\n",
    "\n",
    "from scipy import stats\n",
    "import pingouin as pg\n",
    "\n",
    "import matplotlib.pyplot as plt\n",
    "import seaborn as sns\n",
    "\n",
    "\n",
    "%matplotlib inline"
   ]
  },
  {
   "cell_type": "markdown",
   "metadata": {},
   "source": [
    "# Задача 1.\n",
    "\n",
    "Написать функцию, которая будет считать retention игроков (по дням от даты регистрации игрока)."
   ]
  },
  {
   "cell_type": "markdown",
   "metadata": {},
   "source": [
    "В начале изучим данные, на основе которых необходимо считать retention игроков\n",
    " - reg_data.csv – данные о времени регистрации\n",
    " - auth_data.csv – данные о времени захода пользователей в игру"
   ]
  },
  {
   "cell_type": "code",
   "execution_count": 2,
   "metadata": {},
   "outputs": [],
   "source": [
    "reg_data = pd.read_csv('../shared/problem1-reg_data.csv', sep=';')\n",
    "auth_data = pd.read_csv('../shared/problem1-auth_data.csv', sep=';')"
   ]
  },
  {
   "cell_type": "markdown",
   "metadata": {},
   "source": [
    "## Данные о времени регистрации \n"
   ]
  },
  {
   "cell_type": "code",
   "execution_count": 3,
   "metadata": {},
   "outputs": [
    {
     "data": {
      "text/html": [
       "<div>\n",
       "<style scoped>\n",
       "    .dataframe tbody tr th:only-of-type {\n",
       "        vertical-align: middle;\n",
       "    }\n",
       "\n",
       "    .dataframe tbody tr th {\n",
       "        vertical-align: top;\n",
       "    }\n",
       "\n",
       "    .dataframe thead th {\n",
       "        text-align: right;\n",
       "    }\n",
       "</style>\n",
       "<table border=\"1\" class=\"dataframe\">\n",
       "  <thead>\n",
       "    <tr style=\"text-align: right;\">\n",
       "      <th></th>\n",
       "      <th>reg_ts</th>\n",
       "      <th>uid</th>\n",
       "    </tr>\n",
       "  </thead>\n",
       "  <tbody>\n",
       "    <tr>\n",
       "      <th>0</th>\n",
       "      <td>911382223</td>\n",
       "      <td>1</td>\n",
       "    </tr>\n",
       "    <tr>\n",
       "      <th>1</th>\n",
       "      <td>932683089</td>\n",
       "      <td>2</td>\n",
       "    </tr>\n",
       "    <tr>\n",
       "      <th>2</th>\n",
       "      <td>947802447</td>\n",
       "      <td>3</td>\n",
       "    </tr>\n",
       "    <tr>\n",
       "      <th>3</th>\n",
       "      <td>959523541</td>\n",
       "      <td>4</td>\n",
       "    </tr>\n",
       "    <tr>\n",
       "      <th>4</th>\n",
       "      <td>969103313</td>\n",
       "      <td>5</td>\n",
       "    </tr>\n",
       "  </tbody>\n",
       "</table>\n",
       "</div>"
      ],
      "text/plain": [
       "      reg_ts  uid\n",
       "0  911382223    1\n",
       "1  932683089    2\n",
       "2  947802447    3\n",
       "3  959523541    4\n",
       "4  969103313    5"
      ]
     },
     "execution_count": 3,
     "metadata": {},
     "output_type": "execute_result"
    }
   ],
   "source": [
    "reg_data.head()"
   ]
  },
  {
   "cell_type": "markdown",
   "metadata": {},
   "source": [
    "Дата-сет содержит следующую информацию: \n",
    " - reg_ts - дата регистрации \n",
    " - uid - id зарегистрировавшегося пользователя"
   ]
  },
  {
   "cell_type": "code",
   "execution_count": 4,
   "metadata": {
    "scrolled": true
   },
   "outputs": [
    {
     "name": "stdout",
     "output_type": "stream",
     "text": [
      "<class 'pandas.core.frame.DataFrame'>\n",
      "RangeIndex: 1000000 entries, 0 to 999999\n",
      "Data columns (total 2 columns):\n",
      " #   Column  Non-Null Count    Dtype\n",
      "---  ------  --------------    -----\n",
      " 0   reg_ts  1000000 non-null  int64\n",
      " 1   uid     1000000 non-null  int64\n",
      "dtypes: int64(2)\n",
      "memory usage: 15.3 MB\n"
     ]
    }
   ],
   "source": [
    "reg_data.info()"
   ]
  },
  {
   "cell_type": "markdown",
   "metadata": {},
   "source": [
    "Дата-сет содержит 1 млн. записей, пропущенных данных нет, требуется преобразовать колонку reg-ts в формат даты"
   ]
  },
  {
   "cell_type": "code",
   "execution_count": 5,
   "metadata": {},
   "outputs": [
    {
     "data": {
      "text/plain": [
       "1000000"
      ]
     },
     "execution_count": 5,
     "metadata": {},
     "output_type": "execute_result"
    }
   ],
   "source": [
    "#Проверим, сколько уникальных id пользователей содержит дата-сет = есть ли дублирующиеся данные \n",
    "reg_data['uid'].nunique()"
   ]
  },
  {
   "cell_type": "code",
   "execution_count": 6,
   "metadata": {},
   "outputs": [
    {
     "data": {
      "text/html": [
       "<div>\n",
       "<style scoped>\n",
       "    .dataframe tbody tr th:only-of-type {\n",
       "        vertical-align: middle;\n",
       "    }\n",
       "\n",
       "    .dataframe tbody tr th {\n",
       "        vertical-align: top;\n",
       "    }\n",
       "\n",
       "    .dataframe thead th {\n",
       "        text-align: right;\n",
       "    }\n",
       "</style>\n",
       "<table border=\"1\" class=\"dataframe\">\n",
       "  <thead>\n",
       "    <tr style=\"text-align: right;\">\n",
       "      <th></th>\n",
       "      <th>reg_ts</th>\n",
       "      <th>uid</th>\n",
       "      <th>reg_time</th>\n",
       "    </tr>\n",
       "  </thead>\n",
       "  <tbody>\n",
       "    <tr>\n",
       "      <th>0</th>\n",
       "      <td>911382223</td>\n",
       "      <td>1</td>\n",
       "      <td>1998-11-18</td>\n",
       "    </tr>\n",
       "    <tr>\n",
       "      <th>1</th>\n",
       "      <td>932683089</td>\n",
       "      <td>2</td>\n",
       "      <td>1999-07-22</td>\n",
       "    </tr>\n",
       "    <tr>\n",
       "      <th>2</th>\n",
       "      <td>947802447</td>\n",
       "      <td>3</td>\n",
       "      <td>2000-01-13</td>\n",
       "    </tr>\n",
       "    <tr>\n",
       "      <th>3</th>\n",
       "      <td>959523541</td>\n",
       "      <td>4</td>\n",
       "      <td>2000-05-28</td>\n",
       "    </tr>\n",
       "    <tr>\n",
       "      <th>4</th>\n",
       "      <td>969103313</td>\n",
       "      <td>5</td>\n",
       "      <td>2000-09-16</td>\n",
       "    </tr>\n",
       "  </tbody>\n",
       "</table>\n",
       "</div>"
      ],
      "text/plain": [
       "      reg_ts  uid   reg_time\n",
       "0  911382223    1 1998-11-18\n",
       "1  932683089    2 1999-07-22\n",
       "2  947802447    3 2000-01-13\n",
       "3  959523541    4 2000-05-28\n",
       "4  969103313    5 2000-09-16"
      ]
     },
     "execution_count": 6,
     "metadata": {},
     "output_type": "execute_result"
    }
   ],
   "source": [
    "# изменим тип данных на дату для работы с колонкой reg_ts\n",
    "reg_data['reg_time'] = pd.to_datetime(reg_data.reg_ts,  unit='s').dt.date.astype('datetime64')\n",
    "reg_data.head()"
   ]
  },
  {
   "cell_type": "code",
   "execution_count": 7,
   "metadata": {},
   "outputs": [
    {
     "data": {
      "text/plain": [
       "min   1998-11-18\n",
       "max   2020-09-23\n",
       "Name: reg_time, dtype: datetime64[ns]"
      ]
     },
     "execution_count": 7,
     "metadata": {},
     "output_type": "execute_result"
    }
   ],
   "source": [
    "#Определим, за какие года у нас есть данные \n",
    "reg_data['reg_time'].agg(['min', 'max'])"
   ]
  },
  {
   "cell_type": "code",
   "execution_count": 8,
   "metadata": {
    "scrolled": true
   },
   "outputs": [
    {
     "data": {
      "image/png": "[encoded data removed]",
      "text/plain": [
       "<Figure size 576x432 with 1 Axes>"
      ]
     },
     "metadata": {
      "needs_background": "light"
     },
     "output_type": "display_data"
    }
   ],
   "source": [
    "# Посмотрим на распределение данных во времени \n",
    "plt.figure(figsize=(8, 6))\n",
    "sns.histplot(reg_data.reg_time)\n",
    "\n",
    "plt.xlabel('Дата')\n",
    "plt.ylabel('Количество регистраций')\n",
    "\n",
    "plt.show()"
   ]
  },
  {
   "cell_type": "markdown",
   "metadata": {},
   "source": [
    "Количество регистраций пользователей резко возрастает с 2016 года "
   ]
  },
  {
   "cell_type": "markdown",
   "metadata": {},
   "source": [
    "## Данные о времени захода пользователей в игру\n"
   ]
  },
  {
   "cell_type": "code",
   "execution_count": 9,
   "metadata": {},
   "outputs": [
    {
     "data": {
      "text/html": [
       "<div>\n",
       "<style scoped>\n",
       "    .dataframe tbody tr th:only-of-type {\n",
       "        vertical-align: middle;\n",
       "    }\n",
       "\n",
       "    .dataframe tbody tr th {\n",
       "        vertical-align: top;\n",
       "    }\n",
       "\n",
       "    .dataframe thead th {\n",
       "        text-align: right;\n",
       "    }\n",
       "</style>\n",
       "<table border=\"1\" class=\"dataframe\">\n",
       "  <thead>\n",
       "    <tr style=\"text-align: right;\">\n",
       "      <th></th>\n",
       "      <th>auth_ts</th>\n",
       "      <th>uid</th>\n",
       "    </tr>\n",
       "  </thead>\n",
       "  <tbody>\n",
       "    <tr>\n",
       "      <th>0</th>\n",
       "      <td>911382223</td>\n",
       "      <td>1</td>\n",
       "    </tr>\n",
       "    <tr>\n",
       "      <th>1</th>\n",
       "      <td>932683089</td>\n",
       "      <td>2</td>\n",
       "    </tr>\n",
       "    <tr>\n",
       "      <th>2</th>\n",
       "      <td>932921206</td>\n",
       "      <td>2</td>\n",
       "    </tr>\n",
       "    <tr>\n",
       "      <th>3</th>\n",
       "      <td>933393015</td>\n",
       "      <td>2</td>\n",
       "    </tr>\n",
       "    <tr>\n",
       "      <th>4</th>\n",
       "      <td>933875379</td>\n",
       "      <td>2</td>\n",
       "    </tr>\n",
       "  </tbody>\n",
       "</table>\n",
       "</div>"
      ],
      "text/plain": [
       "     auth_ts  uid\n",
       "0  911382223    1\n",
       "1  932683089    2\n",
       "2  932921206    2\n",
       "3  933393015    2\n",
       "4  933875379    2"
      ]
     },
     "execution_count": 9,
     "metadata": {},
     "output_type": "execute_result"
    }
   ],
   "source": [
    "auth_data.head()"
   ]
  },
  {
   "cell_type": "markdown",
   "metadata": {},
   "source": [
    "Дата-сет содержит следующую информацию:\n",
    "\n",
    "auth_ts - данные о времени захода в игру\n",
    "uid - id пользователя"
   ]
  },
  {
   "cell_type": "code",
   "execution_count": 10,
   "metadata": {},
   "outputs": [
    {
     "name": "stdout",
     "output_type": "stream",
     "text": [
      "<class 'pandas.core.frame.DataFrame'>\n",
      "RangeIndex: 9601013 entries, 0 to 9601012\n",
      "Data columns (total 2 columns):\n",
      " #   Column   Dtype\n",
      "---  ------   -----\n",
      " 0   auth_ts  int64\n",
      " 1   uid      int64\n",
      "dtypes: int64(2)\n",
      "memory usage: 146.5 MB\n"
     ]
    }
   ],
   "source": [
    "auth_data.info()"
   ]
  },
  {
   "cell_type": "markdown",
   "metadata": {},
   "source": [
    "Дата-сет содержит более 9,5 млн. записей о действии пользователей в игре \n",
    "Пропущенных значений нет, колонка auth_ts требует изменения в формат даты (без учета времени захода, нам требуется информации о дне, когда пользователь возвращался в игру)"
   ]
  },
  {
   "cell_type": "code",
   "execution_count": 11,
   "metadata": {},
   "outputs": [
    {
     "data": {
      "text/html": [
       "<div>\n",
       "<style scoped>\n",
       "    .dataframe tbody tr th:only-of-type {\n",
       "        vertical-align: middle;\n",
       "    }\n",
       "\n",
       "    .dataframe tbody tr th {\n",
       "        vertical-align: top;\n",
       "    }\n",
       "\n",
       "    .dataframe thead th {\n",
       "        text-align: right;\n",
       "    }\n",
       "</style>\n",
       "<table border=\"1\" class=\"dataframe\">\n",
       "  <thead>\n",
       "    <tr style=\"text-align: right;\">\n",
       "      <th></th>\n",
       "      <th>auth_ts</th>\n",
       "      <th>uid</th>\n",
       "      <th>auth_time</th>\n",
       "    </tr>\n",
       "  </thead>\n",
       "  <tbody>\n",
       "    <tr>\n",
       "      <th>0</th>\n",
       "      <td>911382223</td>\n",
       "      <td>1</td>\n",
       "      <td>1998-11-18</td>\n",
       "    </tr>\n",
       "    <tr>\n",
       "      <th>1</th>\n",
       "      <td>932683089</td>\n",
       "      <td>2</td>\n",
       "      <td>1999-07-22</td>\n",
       "    </tr>\n",
       "    <tr>\n",
       "      <th>2</th>\n",
       "      <td>932921206</td>\n",
       "      <td>2</td>\n",
       "      <td>1999-07-25</td>\n",
       "    </tr>\n",
       "    <tr>\n",
       "      <th>3</th>\n",
       "      <td>933393015</td>\n",
       "      <td>2</td>\n",
       "      <td>1999-07-31</td>\n",
       "    </tr>\n",
       "    <tr>\n",
       "      <th>4</th>\n",
       "      <td>933875379</td>\n",
       "      <td>2</td>\n",
       "      <td>1999-08-05</td>\n",
       "    </tr>\n",
       "  </tbody>\n",
       "</table>\n",
       "</div>"
      ],
      "text/plain": [
       "     auth_ts  uid  auth_time\n",
       "0  911382223    1 1998-11-18\n",
       "1  932683089    2 1999-07-22\n",
       "2  932921206    2 1999-07-25\n",
       "3  933393015    2 1999-07-31\n",
       "4  933875379    2 1999-08-05"
      ]
     },
     "execution_count": 11,
     "metadata": {},
     "output_type": "execute_result"
    }
   ],
   "source": [
    "auth_data['auth_time'] = pd.to_datetime(auth_data.auth_ts, unit='s').dt.date.astype('datetime64')\n",
    "auth_data.head()"
   ]
  },
  {
   "cell_type": "code",
   "execution_count": 12,
   "metadata": {},
   "outputs": [
    {
     "data": {
      "text/plain": [
       "1000000"
      ]
     },
     "execution_count": 12,
     "metadata": {},
     "output_type": "execute_result"
    }
   ],
   "source": [
    "#Проверим, сколько уникальных id пользователей содержит дата-сет \n",
    "auth_data['uid'].nunique()"
   ]
  },
  {
   "cell_type": "code",
   "execution_count": 13,
   "metadata": {},
   "outputs": [
    {
     "data": {
      "text/plain": [
       "min   1998-11-18\n",
       "max   2020-09-23\n",
       "Name: auth_time, dtype: datetime64[ns]"
      ]
     },
     "execution_count": 13,
     "metadata": {},
     "output_type": "execute_result"
    }
   ],
   "source": [
    "#Определим, за какие года у нас есть данные \n",
    "auth_data['auth_time'].agg(['min', 'max'])"
   ]
  },
  {
   "cell_type": "markdown",
   "metadata": {},
   "source": [
    "Дата-сет содержит информацию о времени захода в игру 1 млн. пользователей, что совпадает с количеством пользователей, зарегистрировавшихся на платформе. "
   ]
  },
  {
   "cell_type": "markdown",
   "metadata": {},
   "source": [
    "У нас есть 2 дата-сета, в которых содержится информация о времени захода 1 млн. зарегистрированных пользователей в игру с 18.11.1998 по 23.09.2020. Это широкий диапозон дат, для retention такие временные рамки излишни. Поэтому функция для подсчета Retention будет брать на вход заданный диапозон дат "
   ]
  },
  {
   "cell_type": "markdown",
   "metadata": {},
   "source": [
    "## Функция для расчета retention \n",
    "\n",
    "Функция будет иметь следующий сценарий \n",
    "\n",
    "   - определить временной промежуток - data_start и data_finish --> фильтр дат \n",
    "   - объединить два дата-сета по id \n",
    "   - делаем когорты --> агреггировать данные по каждой дате\n",
    "   - нужна колонка, где будет указан день от даты регистрации\n",
    "   - считаем retention \n",
    "   - собираем в сводную таблицу pivot, где индекс - дата регистрации, колонка - день от даты регистрации, значения - retention\n",
    "   - визуализируем данные через heatmap"
   ]
  },
  {
   "cell_type": "code",
   "execution_count": 171,
   "metadata": {},
   "outputs": [],
   "source": [
    "def get_retention(reg_data, auth_data, start, finish):\n",
    "    \"\"\"\n",
    "    Рассчитывает retention за заданный период времени.\n",
    "\n",
    "    Параметры:\n",
    "    reg_data (dataset): Данные о регистрации.\n",
    "    auth_data (dataset): Данные о входе в игру.\n",
    "    start (int64): Дата начала периода в формате 'yyyy-mm-dd'.\n",
    "    finish (int64): Дата окончания периода в формате 'yyyy-mm-dd'.\n",
    "\n",
    "\n",
    "    Возвращает:\n",
    "    table: Таблица со значениями retention по дням.\n",
    "    heatmap: Визуализация таблицы heatmap\n",
    "    \"\"\"\n",
    "    #даты переводим в формат datetime\n",
    "    start = pd.to_datetime(start)\n",
    "    finish = pd.to_datetime(finish)\n",
    "    #определяем временной диапозон, за который нам нужны данные для расчета retention\n",
    "    reg_part = reg_data.query(\"@start <= reg_time and reg_time <= @finish\")\n",
    "    auth_part = auth_data.query(\"@start <= auth_time and auth_time <= @finish\")\n",
    "    \n",
    "    #объединяем два дата-сета \n",
    "    users_data = reg_part.merge(auth_part, how='left', on='uid')\n",
    "    \n",
    "    #добавляем колонку day - для определения количества дней, прошедших со дня регистрации до входа пользователя\n",
    "    users_data['day'] = (users_data['auth_time'] - users_data['reg_time']).dt.days\n",
    "    \n",
    "    #создаем когорты \n",
    "    cohorts = users_data.groupby(['reg_time', 'day'], as_index=False).agg({'uid':'nunique'})\n",
    "    \n",
    "    #создаем сводную таблицу \n",
    "    cohorts_table = cohorts.pivot(index='reg_time', columns='day', values='uid')\n",
    "    \n",
    "    #считаем retention\n",
    "    users_retention = cohorts_table.divide(cohorts_table[0], axis=0)\n",
    "    \n",
    "    #уберем колонку с нулевым днем\n",
    "    users_retention = users_retention.drop(0, axis=1)\n",
    "    \n",
    "    \n",
    "    #добавляем визуализацию\n",
    "    \n",
    "    plt.figure(figsize=(20, 9))\n",
    "    plt.title('Cohorts: User Retention')\n",
    "    heatmap = sns.heatmap(data = users_retention,cmap=\"Blues\", mask=users_retention.isnull(),annot=True,fmt='.0%')\n",
    "    \n",
    "    return users_retention"
   ]
  },
  {
   "cell_type": "code",
   "execution_count": 172,
   "metadata": {},
   "outputs": [
    {
     "name": "stdout",
     "output_type": "stream",
     "text": [
      "\n",
      "    Рассчитывает retention за заданный период времени.\n",
      "\n",
      "    Параметры:\n",
      "    reg_data (dataset): Данные о регистрации.\n",
      "    auth_data (dataset): Данные о входе в игру.\n",
      "    start (int64): Дата начала периода в формате 'yyyy-mm-dd'.\n",
      "    finish (int64): Дата окончания периода в формате 'yyyy-mm-dd'.\n",
      "\n",
      "\n",
      "    Возвращает:\n",
      "    table: Таблица со значениями retention по дням.\n",
      "    heatmap: Визуализация таблицы heatmap\n",
      "    \n"
     ]
    }
   ],
   "source": [
    "print(get_retention.__doc__)"
   ]
  },
  {
   "cell_type": "markdown",
   "metadata": {},
   "source": [
    "### Тестирование функции "
   ]
  },
  {
   "cell_type": "markdown",
   "metadata": {},
   "source": [
    "Проверим, как работает наша функция на небольших наборах данных за 2 разных периода."
   ]
  },
  {
   "cell_type": "code",
   "execution_count": 173,
   "metadata": {},
   "outputs": [
    {
     "data": {
      "text/html": [
       "<div>\n",
       "<style scoped>\n",
       "    .dataframe tbody tr th:only-of-type {\n",
       "        vertical-align: middle;\n",
       "    }\n",
       "\n",
       "    .dataframe tbody tr th {\n",
       "        vertical-align: top;\n",
       "    }\n",
       "\n",
       "    .dataframe thead th {\n",
       "        text-align: right;\n",
       "    }\n",
       "</style>\n",
       "<table border=\"1\" class=\"dataframe\">\n",
       "  <thead>\n",
       "    <tr style=\"text-align: right;\">\n",
       "      <th>day</th>\n",
       "      <th>1</th>\n",
       "      <th>2</th>\n",
       "      <th>3</th>\n",
       "      <th>4</th>\n",
       "      <th>5</th>\n",
       "      <th>6</th>\n",
       "      <th>7</th>\n",
       "      <th>8</th>\n",
       "      <th>9</th>\n",
       "      <th>10</th>\n",
       "      <th>11</th>\n",
       "      <th>12</th>\n",
       "      <th>13</th>\n",
       "    </tr>\n",
       "    <tr>\n",
       "      <th>reg_time</th>\n",
       "      <th></th>\n",
       "      <th></th>\n",
       "      <th></th>\n",
       "      <th></th>\n",
       "      <th></th>\n",
       "      <th></th>\n",
       "      <th></th>\n",
       "      <th></th>\n",
       "      <th></th>\n",
       "      <th></th>\n",
       "      <th></th>\n",
       "      <th></th>\n",
       "      <th></th>\n",
       "    </tr>\n",
       "  </thead>\n",
       "  <tbody>\n",
       "    <tr>\n",
       "      <th>2020-02-01</th>\n",
       "      <td>0.017010</td>\n",
       "      <td>0.046553</td>\n",
       "      <td>0.041182</td>\n",
       "      <td>0.045658</td>\n",
       "      <td>0.064458</td>\n",
       "      <td>0.063563</td>\n",
       "      <td>0.041182</td>\n",
       "      <td>0.042077</td>\n",
       "      <td>0.042972</td>\n",
       "      <td>0.044763</td>\n",
       "      <td>0.046553</td>\n",
       "      <td>0.042077</td>\n",
       "      <td>0.045658</td>\n",
       "    </tr>\n",
       "    <tr>\n",
       "      <th>2020-02-02</th>\n",
       "      <td>0.027703</td>\n",
       "      <td>0.033065</td>\n",
       "      <td>0.047364</td>\n",
       "      <td>0.054513</td>\n",
       "      <td>0.060769</td>\n",
       "      <td>0.070599</td>\n",
       "      <td>0.057194</td>\n",
       "      <td>0.053619</td>\n",
       "      <td>0.055407</td>\n",
       "      <td>0.058088</td>\n",
       "      <td>0.053619</td>\n",
       "      <td>0.058981</td>\n",
       "      <td>NaN</td>\n",
       "    </tr>\n",
       "    <tr>\n",
       "      <th>2020-02-03</th>\n",
       "      <td>0.016949</td>\n",
       "      <td>0.043711</td>\n",
       "      <td>0.046387</td>\n",
       "      <td>0.056200</td>\n",
       "      <td>0.062444</td>\n",
       "      <td>0.082070</td>\n",
       "      <td>0.049063</td>\n",
       "      <td>0.049955</td>\n",
       "      <td>0.051740</td>\n",
       "      <td>0.061552</td>\n",
       "      <td>0.049063</td>\n",
       "      <td>NaN</td>\n",
       "      <td>NaN</td>\n",
       "    </tr>\n",
       "    <tr>\n",
       "      <th>2020-02-04</th>\n",
       "      <td>0.024955</td>\n",
       "      <td>0.049020</td>\n",
       "      <td>0.047237</td>\n",
       "      <td>0.058824</td>\n",
       "      <td>0.059715</td>\n",
       "      <td>0.056150</td>\n",
       "      <td>0.059715</td>\n",
       "      <td>0.051693</td>\n",
       "      <td>0.054367</td>\n",
       "      <td>0.066845</td>\n",
       "      <td>NaN</td>\n",
       "      <td>NaN</td>\n",
       "      <td>NaN</td>\n",
       "    </tr>\n",
       "    <tr>\n",
       "      <th>2020-02-05</th>\n",
       "      <td>0.016889</td>\n",
       "      <td>0.042667</td>\n",
       "      <td>0.039111</td>\n",
       "      <td>0.054222</td>\n",
       "      <td>0.050667</td>\n",
       "      <td>0.067556</td>\n",
       "      <td>0.060444</td>\n",
       "      <td>0.044444</td>\n",
       "      <td>0.051556</td>\n",
       "      <td>NaN</td>\n",
       "      <td>NaN</td>\n",
       "      <td>NaN</td>\n",
       "      <td>NaN</td>\n",
       "    </tr>\n",
       "    <tr>\n",
       "      <th>2020-02-06</th>\n",
       "      <td>0.023979</td>\n",
       "      <td>0.039076</td>\n",
       "      <td>0.048845</td>\n",
       "      <td>0.052398</td>\n",
       "      <td>0.059503</td>\n",
       "      <td>0.085258</td>\n",
       "      <td>0.050622</td>\n",
       "      <td>0.045293</td>\n",
       "      <td>NaN</td>\n",
       "      <td>NaN</td>\n",
       "      <td>NaN</td>\n",
       "      <td>NaN</td>\n",
       "      <td>NaN</td>\n",
       "    </tr>\n",
       "    <tr>\n",
       "      <th>2020-02-07</th>\n",
       "      <td>0.019504</td>\n",
       "      <td>0.045213</td>\n",
       "      <td>0.039007</td>\n",
       "      <td>0.041667</td>\n",
       "      <td>0.070922</td>\n",
       "      <td>0.076241</td>\n",
       "      <td>0.056738</td>\n",
       "      <td>NaN</td>\n",
       "      <td>NaN</td>\n",
       "      <td>NaN</td>\n",
       "      <td>NaN</td>\n",
       "      <td>NaN</td>\n",
       "      <td>NaN</td>\n",
       "    </tr>\n",
       "    <tr>\n",
       "      <th>2020-02-08</th>\n",
       "      <td>0.014159</td>\n",
       "      <td>0.034513</td>\n",
       "      <td>0.041593</td>\n",
       "      <td>0.034513</td>\n",
       "      <td>0.050442</td>\n",
       "      <td>0.059292</td>\n",
       "      <td>NaN</td>\n",
       "      <td>NaN</td>\n",
       "      <td>NaN</td>\n",
       "      <td>NaN</td>\n",
       "      <td>NaN</td>\n",
       "      <td>NaN</td>\n",
       "      <td>NaN</td>\n",
       "    </tr>\n",
       "    <tr>\n",
       "      <th>2020-02-09</th>\n",
       "      <td>0.016784</td>\n",
       "      <td>0.047703</td>\n",
       "      <td>0.044170</td>\n",
       "      <td>0.049470</td>\n",
       "      <td>0.055654</td>\n",
       "      <td>NaN</td>\n",
       "      <td>NaN</td>\n",
       "      <td>NaN</td>\n",
       "      <td>NaN</td>\n",
       "      <td>NaN</td>\n",
       "      <td>NaN</td>\n",
       "      <td>NaN</td>\n",
       "      <td>NaN</td>\n",
       "    </tr>\n",
       "    <tr>\n",
       "      <th>2020-02-10</th>\n",
       "      <td>0.020282</td>\n",
       "      <td>0.036155</td>\n",
       "      <td>0.044092</td>\n",
       "      <td>0.045855</td>\n",
       "      <td>NaN</td>\n",
       "      <td>NaN</td>\n",
       "      <td>NaN</td>\n",
       "      <td>NaN</td>\n",
       "      <td>NaN</td>\n",
       "      <td>NaN</td>\n",
       "      <td>NaN</td>\n",
       "      <td>NaN</td>\n",
       "      <td>NaN</td>\n",
       "    </tr>\n",
       "    <tr>\n",
       "      <th>2020-02-11</th>\n",
       "      <td>0.020264</td>\n",
       "      <td>0.036123</td>\n",
       "      <td>0.050220</td>\n",
       "      <td>NaN</td>\n",
       "      <td>NaN</td>\n",
       "      <td>NaN</td>\n",
       "      <td>NaN</td>\n",
       "      <td>NaN</td>\n",
       "      <td>NaN</td>\n",
       "      <td>NaN</td>\n",
       "      <td>NaN</td>\n",
       "      <td>NaN</td>\n",
       "      <td>NaN</td>\n",
       "    </tr>\n",
       "    <tr>\n",
       "      <th>2020-02-12</th>\n",
       "      <td>0.020211</td>\n",
       "      <td>0.036907</td>\n",
       "      <td>NaN</td>\n",
       "      <td>NaN</td>\n",
       "      <td>NaN</td>\n",
       "      <td>NaN</td>\n",
       "      <td>NaN</td>\n",
       "      <td>NaN</td>\n",
       "      <td>NaN</td>\n",
       "      <td>NaN</td>\n",
       "      <td>NaN</td>\n",
       "      <td>NaN</td>\n",
       "      <td>NaN</td>\n",
       "    </tr>\n",
       "    <tr>\n",
       "      <th>2020-02-13</th>\n",
       "      <td>0.019315</td>\n",
       "      <td>NaN</td>\n",
       "      <td>NaN</td>\n",
       "      <td>NaN</td>\n",
       "      <td>NaN</td>\n",
       "      <td>NaN</td>\n",
       "      <td>NaN</td>\n",
       "      <td>NaN</td>\n",
       "      <td>NaN</td>\n",
       "      <td>NaN</td>\n",
       "      <td>NaN</td>\n",
       "      <td>NaN</td>\n",
       "      <td>NaN</td>\n",
       "    </tr>\n",
       "    <tr>\n",
       "      <th>2020-02-14</th>\n",
       "      <td>NaN</td>\n",
       "      <td>NaN</td>\n",
       "      <td>NaN</td>\n",
       "      <td>NaN</td>\n",
       "      <td>NaN</td>\n",
       "      <td>NaN</td>\n",
       "      <td>NaN</td>\n",
       "      <td>NaN</td>\n",
       "      <td>NaN</td>\n",
       "      <td>NaN</td>\n",
       "      <td>NaN</td>\n",
       "      <td>NaN</td>\n",
       "      <td>NaN</td>\n",
       "    </tr>\n",
       "  </tbody>\n",
       "</table>\n",
       "</div>"
      ],
      "text/plain": [
       "day               1         2         3         4         5         6   \\\n",
       "reg_time                                                                 \n",
       "2020-02-01  0.017010  0.046553  0.041182  0.045658  0.064458  0.063563   \n",
       "2020-02-02  0.027703  0.033065  0.047364  0.054513  0.060769  0.070599   \n",
       "2020-02-03  0.016949  0.043711  0.046387  0.056200  0.062444  0.082070   \n",
       "2020-02-04  0.024955  0.049020  0.047237  0.058824  0.059715  0.056150   \n",
       "2020-02-05  0.016889  0.042667  0.039111  0.054222  0.050667  0.067556   \n",
       "2020-02-06  0.023979  0.039076  0.048845  0.052398  0.059503  0.085258   \n",
       "2020-02-07  0.019504  0.045213  0.039007  0.041667  0.070922  0.076241   \n",
       "2020-02-08  0.014159  0.034513  0.041593  0.034513  0.050442  0.059292   \n",
       "2020-02-09  0.016784  0.047703  0.044170  0.049470  0.055654       NaN   \n",
       "2020-02-10  0.020282  0.036155  0.044092  0.045855       NaN       NaN   \n",
       "2020-02-11  0.020264  0.036123  0.050220       NaN       NaN       NaN   \n",
       "2020-02-12  0.020211  0.036907       NaN       NaN       NaN       NaN   \n",
       "2020-02-13  0.019315       NaN       NaN       NaN       NaN       NaN   \n",
       "2020-02-14       NaN       NaN       NaN       NaN       NaN       NaN   \n",
       "\n",
       "day               7         8         9         10        11        12  \\\n",
       "reg_time                                                                 \n",
       "2020-02-01  0.041182  0.042077  0.042972  0.044763  0.046553  0.042077   \n",
       "2020-02-02  0.057194  0.053619  0.055407  0.058088  0.053619  0.058981   \n",
       "2020-02-03  0.049063  0.049955  0.051740  0.061552  0.049063       NaN   \n",
       "2020-02-04  0.059715  0.051693  0.054367  0.066845       NaN       NaN   \n",
       "2020-02-05  0.060444  0.044444  0.051556       NaN       NaN       NaN   \n",
       "2020-02-06  0.050622  0.045293       NaN       NaN       NaN       NaN   \n",
       "2020-02-07  0.056738       NaN       NaN       NaN       NaN       NaN   \n",
       "2020-02-08       NaN       NaN       NaN       NaN       NaN       NaN   \n",
       "2020-02-09       NaN       NaN       NaN       NaN       NaN       NaN   \n",
       "2020-02-10       NaN       NaN       NaN       NaN       NaN       NaN   \n",
       "2020-02-11       NaN       NaN       NaN       NaN       NaN       NaN   \n",
       "2020-02-12       NaN       NaN       NaN       NaN       NaN       NaN   \n",
       "2020-02-13       NaN       NaN       NaN       NaN       NaN       NaN   \n",
       "2020-02-14       NaN       NaN       NaN       NaN       NaN       NaN   \n",
       "\n",
       "day               13  \n",
       "reg_time              \n",
       "2020-02-01  0.045658  \n",
       "2020-02-02       NaN  \n",
       "2020-02-03       NaN  \n",
       "2020-02-04       NaN  \n",
       "2020-02-05       NaN  \n",
       "2020-02-06       NaN  \n",
       "2020-02-07       NaN  \n",
       "2020-02-08       NaN  \n",
       "2020-02-09       NaN  \n",
       "2020-02-10       NaN  \n",
       "2020-02-11       NaN  \n",
       "2020-02-12       NaN  \n",
       "2020-02-13       NaN  \n",
       "2020-02-14       NaN  "
      ]
     },
     "execution_count": 173,
     "metadata": {},
     "output_type": "execute_result"
    },
    {
     "data": {
      "image/png": "[encoded data removed]",
      "text/plain": [
       "<Figure size 1440x648 with 2 Axes>"
      ]
     },
     "metadata": {
      "needs_background": "light"
     },
     "output_type": "display_data"
    }
   ],
   "source": [
    "#Протестируем функцию на наборе данных за 01.02.2020 - 14.02.2020\n",
    "start = '2020-02-01'\n",
    "finish = '2020-02-14'\n",
    "\n",
    "get_retention(reg_data, auth_data, start, finish)"
   ]
  },
  {
   "cell_type": "code",
   "execution_count": 174,
   "metadata": {
    "scrolled": true
   },
   "outputs": [
    {
     "data": {
      "text/html": [
       "<div>\n",
       "<style scoped>\n",
       "    .dataframe tbody tr th:only-of-type {\n",
       "        vertical-align: middle;\n",
       "    }\n",
       "\n",
       "    .dataframe tbody tr th {\n",
       "        vertical-align: top;\n",
       "    }\n",
       "\n",
       "    .dataframe thead th {\n",
       "        text-align: right;\n",
       "    }\n",
       "</style>\n",
       "<table border=\"1\" class=\"dataframe\">\n",
       "  <thead>\n",
       "    <tr style=\"text-align: right;\">\n",
       "      <th>day</th>\n",
       "      <th>1</th>\n",
       "      <th>2</th>\n",
       "      <th>3</th>\n",
       "      <th>4</th>\n",
       "      <th>5</th>\n",
       "      <th>6</th>\n",
       "      <th>7</th>\n",
       "      <th>8</th>\n",
       "      <th>9</th>\n",
       "      <th>10</th>\n",
       "      <th>11</th>\n",
       "    </tr>\n",
       "    <tr>\n",
       "      <th>reg_time</th>\n",
       "      <th></th>\n",
       "      <th></th>\n",
       "      <th></th>\n",
       "      <th></th>\n",
       "      <th></th>\n",
       "      <th></th>\n",
       "      <th></th>\n",
       "      <th></th>\n",
       "      <th></th>\n",
       "      <th></th>\n",
       "      <th></th>\n",
       "    </tr>\n",
       "  </thead>\n",
       "  <tbody>\n",
       "    <tr>\n",
       "      <th>2017-05-24</th>\n",
       "      <td>0.027027</td>\n",
       "      <td>0.027027</td>\n",
       "      <td>0.031532</td>\n",
       "      <td>0.067568</td>\n",
       "      <td>0.054054</td>\n",
       "      <td>0.067568</td>\n",
       "      <td>0.054054</td>\n",
       "      <td>0.063063</td>\n",
       "      <td>0.031532</td>\n",
       "      <td>0.040541</td>\n",
       "      <td>0.063063</td>\n",
       "    </tr>\n",
       "    <tr>\n",
       "      <th>2017-05-25</th>\n",
       "      <td>0.036036</td>\n",
       "      <td>0.049550</td>\n",
       "      <td>0.040541</td>\n",
       "      <td>0.058559</td>\n",
       "      <td>0.045045</td>\n",
       "      <td>0.099099</td>\n",
       "      <td>0.058559</td>\n",
       "      <td>0.067568</td>\n",
       "      <td>0.036036</td>\n",
       "      <td>0.067568</td>\n",
       "      <td>NaN</td>\n",
       "    </tr>\n",
       "    <tr>\n",
       "      <th>2017-05-26</th>\n",
       "      <td>0.017937</td>\n",
       "      <td>0.044843</td>\n",
       "      <td>0.053812</td>\n",
       "      <td>0.053812</td>\n",
       "      <td>0.049327</td>\n",
       "      <td>0.067265</td>\n",
       "      <td>0.058296</td>\n",
       "      <td>0.067265</td>\n",
       "      <td>0.058296</td>\n",
       "      <td>NaN</td>\n",
       "      <td>NaN</td>\n",
       "    </tr>\n",
       "    <tr>\n",
       "      <th>2017-05-27</th>\n",
       "      <td>0.031390</td>\n",
       "      <td>0.035874</td>\n",
       "      <td>0.049327</td>\n",
       "      <td>0.031390</td>\n",
       "      <td>0.040359</td>\n",
       "      <td>0.071749</td>\n",
       "      <td>0.022422</td>\n",
       "      <td>0.026906</td>\n",
       "      <td>NaN</td>\n",
       "      <td>NaN</td>\n",
       "      <td>NaN</td>\n",
       "    </tr>\n",
       "    <tr>\n",
       "      <th>2017-05-28</th>\n",
       "      <td>0.004484</td>\n",
       "      <td>0.067265</td>\n",
       "      <td>0.017937</td>\n",
       "      <td>0.035874</td>\n",
       "      <td>0.085202</td>\n",
       "      <td>0.085202</td>\n",
       "      <td>0.053812</td>\n",
       "      <td>NaN</td>\n",
       "      <td>NaN</td>\n",
       "      <td>NaN</td>\n",
       "      <td>NaN</td>\n",
       "    </tr>\n",
       "    <tr>\n",
       "      <th>2017-05-29</th>\n",
       "      <td>0.017857</td>\n",
       "      <td>0.035714</td>\n",
       "      <td>0.017857</td>\n",
       "      <td>0.071429</td>\n",
       "      <td>0.066964</td>\n",
       "      <td>0.053571</td>\n",
       "      <td>NaN</td>\n",
       "      <td>NaN</td>\n",
       "      <td>NaN</td>\n",
       "      <td>NaN</td>\n",
       "      <td>NaN</td>\n",
       "    </tr>\n",
       "    <tr>\n",
       "      <th>2017-05-30</th>\n",
       "      <td>0.008929</td>\n",
       "      <td>0.035714</td>\n",
       "      <td>0.053571</td>\n",
       "      <td>0.066964</td>\n",
       "      <td>0.058036</td>\n",
       "      <td>NaN</td>\n",
       "      <td>NaN</td>\n",
       "      <td>NaN</td>\n",
       "      <td>NaN</td>\n",
       "      <td>NaN</td>\n",
       "      <td>NaN</td>\n",
       "    </tr>\n",
       "    <tr>\n",
       "      <th>2017-05-31</th>\n",
       "      <td>0.008929</td>\n",
       "      <td>0.053571</td>\n",
       "      <td>0.044643</td>\n",
       "      <td>0.044643</td>\n",
       "      <td>NaN</td>\n",
       "      <td>NaN</td>\n",
       "      <td>NaN</td>\n",
       "      <td>NaN</td>\n",
       "      <td>NaN</td>\n",
       "      <td>NaN</td>\n",
       "      <td>NaN</td>\n",
       "    </tr>\n",
       "    <tr>\n",
       "      <th>2017-06-01</th>\n",
       "      <td>0.022222</td>\n",
       "      <td>0.017778</td>\n",
       "      <td>0.044444</td>\n",
       "      <td>NaN</td>\n",
       "      <td>NaN</td>\n",
       "      <td>NaN</td>\n",
       "      <td>NaN</td>\n",
       "      <td>NaN</td>\n",
       "      <td>NaN</td>\n",
       "      <td>NaN</td>\n",
       "      <td>NaN</td>\n",
       "    </tr>\n",
       "    <tr>\n",
       "      <th>2017-06-02</th>\n",
       "      <td>0.026667</td>\n",
       "      <td>0.044444</td>\n",
       "      <td>NaN</td>\n",
       "      <td>NaN</td>\n",
       "      <td>NaN</td>\n",
       "      <td>NaN</td>\n",
       "      <td>NaN</td>\n",
       "      <td>NaN</td>\n",
       "      <td>NaN</td>\n",
       "      <td>NaN</td>\n",
       "      <td>NaN</td>\n",
       "    </tr>\n",
       "    <tr>\n",
       "      <th>2017-06-03</th>\n",
       "      <td>0.008850</td>\n",
       "      <td>NaN</td>\n",
       "      <td>NaN</td>\n",
       "      <td>NaN</td>\n",
       "      <td>NaN</td>\n",
       "      <td>NaN</td>\n",
       "      <td>NaN</td>\n",
       "      <td>NaN</td>\n",
       "      <td>NaN</td>\n",
       "      <td>NaN</td>\n",
       "      <td>NaN</td>\n",
       "    </tr>\n",
       "    <tr>\n",
       "      <th>2017-06-04</th>\n",
       "      <td>NaN</td>\n",
       "      <td>NaN</td>\n",
       "      <td>NaN</td>\n",
       "      <td>NaN</td>\n",
       "      <td>NaN</td>\n",
       "      <td>NaN</td>\n",
       "      <td>NaN</td>\n",
       "      <td>NaN</td>\n",
       "      <td>NaN</td>\n",
       "      <td>NaN</td>\n",
       "      <td>NaN</td>\n",
       "    </tr>\n",
       "  </tbody>\n",
       "</table>\n",
       "</div>"
      ],
      "text/plain": [
       "day               1         2         3         4         5         6   \\\n",
       "reg_time                                                                 \n",
       "2017-05-24  0.027027  0.027027  0.031532  0.067568  0.054054  0.067568   \n",
       "2017-05-25  0.036036  0.049550  0.040541  0.058559  0.045045  0.099099   \n",
       "2017-05-26  0.017937  0.044843  0.053812  0.053812  0.049327  0.067265   \n",
       "2017-05-27  0.031390  0.035874  0.049327  0.031390  0.040359  0.071749   \n",
       "2017-05-28  0.004484  0.067265  0.017937  0.035874  0.085202  0.085202   \n",
       "2017-05-29  0.017857  0.035714  0.017857  0.071429  0.066964  0.053571   \n",
       "2017-05-30  0.008929  0.035714  0.053571  0.066964  0.058036       NaN   \n",
       "2017-05-31  0.008929  0.053571  0.044643  0.044643       NaN       NaN   \n",
       "2017-06-01  0.022222  0.017778  0.044444       NaN       NaN       NaN   \n",
       "2017-06-02  0.026667  0.044444       NaN       NaN       NaN       NaN   \n",
       "2017-06-03  0.008850       NaN       NaN       NaN       NaN       NaN   \n",
       "2017-06-04       NaN       NaN       NaN       NaN       NaN       NaN   \n",
       "\n",
       "day               7         8         9         10        11  \n",
       "reg_time                                                      \n",
       "2017-05-24  0.054054  0.063063  0.031532  0.040541  0.063063  \n",
       "2017-05-25  0.058559  0.067568  0.036036  0.067568       NaN  \n",
       "2017-05-26  0.058296  0.067265  0.058296       NaN       NaN  \n",
       "2017-05-27  0.022422  0.026906       NaN       NaN       NaN  \n",
       "2017-05-28  0.053812       NaN       NaN       NaN       NaN  \n",
       "2017-05-29       NaN       NaN       NaN       NaN       NaN  \n",
       "2017-05-30       NaN       NaN       NaN       NaN       NaN  \n",
       "2017-05-31       NaN       NaN       NaN       NaN       NaN  \n",
       "2017-06-01       NaN       NaN       NaN       NaN       NaN  \n",
       "2017-06-02       NaN       NaN       NaN       NaN       NaN  \n",
       "2017-06-03       NaN       NaN       NaN       NaN       NaN  \n",
       "2017-06-04       NaN       NaN       NaN       NaN       NaN  "
      ]
     },
     "execution_count": 174,
     "metadata": {},
     "output_type": "execute_result"
    },
    {
     "data": {
      "image/png": "[encoded data removed]",
      "text/plain": [
       "<Figure size 1440x648 with 2 Axes>"
      ]
     },
     "metadata": {
      "needs_background": "light"
     },
     "output_type": "display_data"
    }
   ],
   "source": [
    "#Протестируем функцию на наборе данных за 24.05.2018 - 04.06.2018\n",
    "start = '2017-05-24'\n",
    "finish = '2017-06-04'\n",
    "\n",
    "get_retention(reg_data, auth_data, start, finish)"
   ]
  },
  {
   "cell_type": "markdown",
   "metadata": {},
   "source": [
    "# Задача 2"
   ]
  },
  {
   "cell_type": "markdown",
   "metadata": {},
   "source": [
    "Имеются результаты A/B теста, в котором двум группам пользователей предлагались различные наборы акционных предложений. \n",
    "Какой набор предложений можно считать лучшим? Какие метрики стоит проанализировать для принятия правильного решения и как?"
   ]
  },
  {
   "cell_type": "code",
   "execution_count": 17,
   "metadata": {},
   "outputs": [],
   "source": [
    "#считываем и загружаем данные для работы с Yandex Диска\n",
    "#функция для загрузки данных \n",
    "def down_data(pulic_key, sep = ';'):\n",
    "    base_url = 'https://cloud-api.yandex.net/v1/disk/public/resources/download?'\n",
    "    data_url = pulic_key\n",
    "    final_url = base_url + urlencode(dict(public_key = data_url))\n",
    "    # Делаем запрос через requests и вытягивыем нужную информацию\n",
    "    response = requests.get(final_url)\n",
    "    download_url = response.json()['href']\n",
    " # Считываем информацию\n",
    "    data = pd.read_csv(download_url, sep = sep)\n",
    "    \n",
    "    return data"
   ]
  },
  {
   "cell_type": "code",
   "execution_count": 18,
   "metadata": {},
   "outputs": [],
   "source": [
    "testing_url = 'https://disk.yandex.ru/d/SOkIsD5A8xlI7Q'\n",
    "testing_df = down_data(testing_url)"
   ]
  },
  {
   "cell_type": "code",
   "execution_count": 19,
   "metadata": {},
   "outputs": [
    {
     "data": {
      "text/html": [
       "<div>\n",
       "<style scoped>\n",
       "    .dataframe tbody tr th:only-of-type {\n",
       "        vertical-align: middle;\n",
       "    }\n",
       "\n",
       "    .dataframe tbody tr th {\n",
       "        vertical-align: top;\n",
       "    }\n",
       "\n",
       "    .dataframe thead th {\n",
       "        text-align: right;\n",
       "    }\n",
       "</style>\n",
       "<table border=\"1\" class=\"dataframe\">\n",
       "  <thead>\n",
       "    <tr style=\"text-align: right;\">\n",
       "      <th></th>\n",
       "      <th>user_id</th>\n",
       "      <th>revenue</th>\n",
       "      <th>testgroup</th>\n",
       "    </tr>\n",
       "  </thead>\n",
       "  <tbody>\n",
       "    <tr>\n",
       "      <th>0</th>\n",
       "      <td>1</td>\n",
       "      <td>0</td>\n",
       "      <td>b</td>\n",
       "    </tr>\n",
       "    <tr>\n",
       "      <th>1</th>\n",
       "      <td>2</td>\n",
       "      <td>0</td>\n",
       "      <td>a</td>\n",
       "    </tr>\n",
       "    <tr>\n",
       "      <th>2</th>\n",
       "      <td>3</td>\n",
       "      <td>0</td>\n",
       "      <td>a</td>\n",
       "    </tr>\n",
       "    <tr>\n",
       "      <th>3</th>\n",
       "      <td>4</td>\n",
       "      <td>0</td>\n",
       "      <td>b</td>\n",
       "    </tr>\n",
       "    <tr>\n",
       "      <th>4</th>\n",
       "      <td>5</td>\n",
       "      <td>0</td>\n",
       "      <td>b</td>\n",
       "    </tr>\n",
       "  </tbody>\n",
       "</table>\n",
       "</div>"
      ],
      "text/plain": [
       "   user_id  revenue testgroup\n",
       "0        1        0         b\n",
       "1        2        0         a\n",
       "2        3        0         a\n",
       "3        4        0         b\n",
       "4        5        0         b"
      ]
     },
     "execution_count": 19,
     "metadata": {},
     "output_type": "execute_result"
    }
   ],
   "source": [
    "testing_df.head()"
   ]
  },
  {
   "cell_type": "markdown",
   "metadata": {},
   "source": [
    "## Разведочный анализ данных"
   ]
  },
  {
   "cell_type": "code",
   "execution_count": 20,
   "metadata": {},
   "outputs": [
    {
     "name": "stdout",
     "output_type": "stream",
     "text": [
      "<class 'pandas.core.frame.DataFrame'>\n",
      "RangeIndex: 404770 entries, 0 to 404769\n",
      "Data columns (total 3 columns):\n",
      " #   Column     Non-Null Count   Dtype \n",
      "---  ------     --------------   ----- \n",
      " 0   user_id    404770 non-null  int64 \n",
      " 1   revenue    404770 non-null  int64 \n",
      " 2   testgroup  404770 non-null  object\n",
      "dtypes: int64(2), object(1)\n",
      "memory usage: 9.3+ MB\n"
     ]
    }
   ],
   "source": [
    "testing_df.info()"
   ]
  },
  {
   "cell_type": "markdown",
   "metadata": {},
   "source": [
    "Наши данные содержат 404 770 записей, колонки с информацией об id пользователей, размере выручки с пользователя и к какой группе принадлежит пользователь - контрольной (a) или тестовой (b). Пропусков в данных нет"
   ]
  },
  {
   "cell_type": "code",
   "execution_count": 21,
   "metadata": {},
   "outputs": [
    {
     "data": {
      "text/html": [
       "<div>\n",
       "<style scoped>\n",
       "    .dataframe tbody tr th:only-of-type {\n",
       "        vertical-align: middle;\n",
       "    }\n",
       "\n",
       "    .dataframe tbody tr th {\n",
       "        vertical-align: top;\n",
       "    }\n",
       "\n",
       "    .dataframe thead th {\n",
       "        text-align: right;\n",
       "    }\n",
       "</style>\n",
       "<table border=\"1\" class=\"dataframe\">\n",
       "  <thead>\n",
       "    <tr style=\"text-align: right;\">\n",
       "      <th></th>\n",
       "      <th>testgroup</th>\n",
       "      <th>user_id</th>\n",
       "    </tr>\n",
       "  </thead>\n",
       "  <tbody>\n",
       "    <tr>\n",
       "      <th>0</th>\n",
       "      <td>a</td>\n",
       "      <td>202103</td>\n",
       "    </tr>\n",
       "    <tr>\n",
       "      <th>1</th>\n",
       "      <td>b</td>\n",
       "      <td>202667</td>\n",
       "    </tr>\n",
       "  </tbody>\n",
       "</table>\n",
       "</div>"
      ],
      "text/plain": [
       "  testgroup  user_id\n",
       "0         a   202103\n",
       "1         b   202667"
      ]
     },
     "execution_count": 21,
     "metadata": {},
     "output_type": "execute_result"
    }
   ],
   "source": [
    "#Посмотрим, сколько пользователей находится в каждой группе\n",
    "testing_df.groupby('testgroup', as_index=False) \\\n",
    "          .agg({'user_id':'nunique'})"
   ]
  },
  {
   "cell_type": "markdown",
   "metadata": {},
   "source": [
    "В контрольной группе у нас 202 103 уникальных пользователей, в тестовой - 202 667 уникальных пользователей."
   ]
  },
  {
   "cell_type": "code",
   "execution_count": 81,
   "metadata": {},
   "outputs": [
    {
     "name": "stdout",
     "output_type": "stream",
     "text": [
      "1928 платящих пользователей в контрольной группе\n",
      "1805 платящих пользователей в тестовой группе\n"
     ]
    }
   ],
   "source": [
    "#Посмотрим, сколько в каждой группе платящих пользователей\n",
    "#разобъем данные на два дата-сета - контрольная и тестовая группа\n",
    "#a - контрольная группа\n",
    "#b - тестовая группа\n",
    "\n",
    "group_a = testing_df.query('testgroup == \"a\"')\n",
    "group_b = testing_df.query('testgroup == \"b\"')\n",
    "\n",
    "#и отдельные дата-сеты с только платящими пользователями \n",
    "payed_a = group_a.query('revenue > 0') \n",
    "payed_b = group_b.query('revenue > 0')\n",
    "                                           \n",
    "print(payed_a['user_id'].nunique(), 'платящих пользователей в контрольной группе')\n",
    "print(payed_b['user_id'].nunique(), 'платящих пользователей в тестовой группе')"
   ]
  },
  {
   "cell_type": "code",
   "execution_count": 82,
   "metadata": {},
   "outputs": [
    {
     "data": {
      "text/html": [
       "<div>\n",
       "<style scoped>\n",
       "    .dataframe tbody tr th:only-of-type {\n",
       "        vertical-align: middle;\n",
       "    }\n",
       "\n",
       "    .dataframe tbody tr th {\n",
       "        vertical-align: top;\n",
       "    }\n",
       "\n",
       "    .dataframe thead th {\n",
       "        text-align: right;\n",
       "    }\n",
       "</style>\n",
       "<table border=\"1\" class=\"dataframe\">\n",
       "  <thead>\n",
       "    <tr style=\"text-align: right;\">\n",
       "      <th></th>\n",
       "      <th>user_id</th>\n",
       "      <th>revenue</th>\n",
       "      <th>testgroup</th>\n",
       "    </tr>\n",
       "  </thead>\n",
       "  <tbody>\n",
       "    <tr>\n",
       "      <th>1</th>\n",
       "      <td>2</td>\n",
       "      <td>0</td>\n",
       "      <td>a</td>\n",
       "    </tr>\n",
       "    <tr>\n",
       "      <th>2</th>\n",
       "      <td>3</td>\n",
       "      <td>0</td>\n",
       "      <td>a</td>\n",
       "    </tr>\n",
       "    <tr>\n",
       "      <th>9</th>\n",
       "      <td>10</td>\n",
       "      <td>0</td>\n",
       "      <td>a</td>\n",
       "    </tr>\n",
       "    <tr>\n",
       "      <th>10</th>\n",
       "      <td>11</td>\n",
       "      <td>0</td>\n",
       "      <td>a</td>\n",
       "    </tr>\n",
       "    <tr>\n",
       "      <th>11</th>\n",
       "      <td>12</td>\n",
       "      <td>0</td>\n",
       "      <td>a</td>\n",
       "    </tr>\n",
       "    <tr>\n",
       "      <th>...</th>\n",
       "      <td>...</td>\n",
       "      <td>...</td>\n",
       "      <td>...</td>\n",
       "    </tr>\n",
       "    <tr>\n",
       "      <th>404760</th>\n",
       "      <td>404761</td>\n",
       "      <td>0</td>\n",
       "      <td>a</td>\n",
       "    </tr>\n",
       "    <tr>\n",
       "      <th>404762</th>\n",
       "      <td>404763</td>\n",
       "      <td>0</td>\n",
       "      <td>a</td>\n",
       "    </tr>\n",
       "    <tr>\n",
       "      <th>404765</th>\n",
       "      <td>404766</td>\n",
       "      <td>0</td>\n",
       "      <td>a</td>\n",
       "    </tr>\n",
       "    <tr>\n",
       "      <th>404767</th>\n",
       "      <td>404768</td>\n",
       "      <td>231</td>\n",
       "      <td>a</td>\n",
       "    </tr>\n",
       "    <tr>\n",
       "      <th>404768</th>\n",
       "      <td>404769</td>\n",
       "      <td>0</td>\n",
       "      <td>a</td>\n",
       "    </tr>\n",
       "  </tbody>\n",
       "</table>\n",
       "<p>202103 rows × 3 columns</p>\n",
       "</div>"
      ],
      "text/plain": [
       "        user_id  revenue testgroup\n",
       "1             2        0         a\n",
       "2             3        0         a\n",
       "9            10        0         a\n",
       "10           11        0         a\n",
       "11           12        0         a\n",
       "...         ...      ...       ...\n",
       "404760   404761        0         a\n",
       "404762   404763        0         a\n",
       "404765   404766        0         a\n",
       "404767   404768      231         a\n",
       "404768   404769        0         a\n",
       "\n",
       "[202103 rows x 3 columns]"
      ]
     },
     "execution_count": 82,
     "metadata": {},
     "output_type": "execute_result"
    }
   ],
   "source": [
    "group_a"
   ]
  },
  {
   "cell_type": "markdown",
   "metadata": {},
   "source": [
    "Теперь посмотрим на распределение данных внутри каждой группы. Нас будут интересовать платящие пользователи"
   ]
  },
  {
   "cell_type": "code",
   "execution_count": 83,
   "metadata": {},
   "outputs": [
    {
     "data": {
      "text/html": [
       "<div>\n",
       "<style scoped>\n",
       "    .dataframe tbody tr th:only-of-type {\n",
       "        vertical-align: middle;\n",
       "    }\n",
       "\n",
       "    .dataframe tbody tr th {\n",
       "        vertical-align: top;\n",
       "    }\n",
       "\n",
       "    .dataframe thead th {\n",
       "        text-align: right;\n",
       "    }\n",
       "</style>\n",
       "<table border=\"1\" class=\"dataframe\">\n",
       "  <thead>\n",
       "    <tr style=\"text-align: right;\">\n",
       "      <th></th>\n",
       "      <th>user_id</th>\n",
       "      <th>revenue</th>\n",
       "    </tr>\n",
       "  </thead>\n",
       "  <tbody>\n",
       "    <tr>\n",
       "      <th>count</th>\n",
       "      <td>1928.000000</td>\n",
       "      <td>1928.000000</td>\n",
       "    </tr>\n",
       "    <tr>\n",
       "      <th>mean</th>\n",
       "      <td>200152.677905</td>\n",
       "      <td>2663.998444</td>\n",
       "    </tr>\n",
       "    <tr>\n",
       "      <th>std</th>\n",
       "      <td>116596.504905</td>\n",
       "      <td>9049.039763</td>\n",
       "    </tr>\n",
       "    <tr>\n",
       "      <th>min</th>\n",
       "      <td>73.000000</td>\n",
       "      <td>200.000000</td>\n",
       "    </tr>\n",
       "    <tr>\n",
       "      <th>25%</th>\n",
       "      <td>99323.000000</td>\n",
       "      <td>257.000000</td>\n",
       "    </tr>\n",
       "    <tr>\n",
       "      <th>50%</th>\n",
       "      <td>199854.500000</td>\n",
       "      <td>311.000000</td>\n",
       "    </tr>\n",
       "    <tr>\n",
       "      <th>75%</th>\n",
       "      <td>299664.250000</td>\n",
       "      <td>361.000000</td>\n",
       "    </tr>\n",
       "    <tr>\n",
       "      <th>max</th>\n",
       "      <td>404768.000000</td>\n",
       "      <td>37433.000000</td>\n",
       "    </tr>\n",
       "  </tbody>\n",
       "</table>\n",
       "</div>"
      ],
      "text/plain": [
       "             user_id       revenue\n",
       "count    1928.000000   1928.000000\n",
       "mean   200152.677905   2663.998444\n",
       "std    116596.504905   9049.039763\n",
       "min        73.000000    200.000000\n",
       "25%     99323.000000    257.000000\n",
       "50%    199854.500000    311.000000\n",
       "75%    299664.250000    361.000000\n",
       "max    404768.000000  37433.000000"
      ]
     },
     "execution_count": 83,
     "metadata": {},
     "output_type": "execute_result"
    }
   ],
   "source": [
    "#Платящие пользователи в контрольной группе\n",
    "payed_a.describe()"
   ]
  },
  {
   "cell_type": "code",
   "execution_count": 84,
   "metadata": {},
   "outputs": [
    {
     "data": {
      "text/html": [
       "<div>\n",
       "<style scoped>\n",
       "    .dataframe tbody tr th:only-of-type {\n",
       "        vertical-align: middle;\n",
       "    }\n",
       "\n",
       "    .dataframe tbody tr th {\n",
       "        vertical-align: top;\n",
       "    }\n",
       "\n",
       "    .dataframe thead th {\n",
       "        text-align: right;\n",
       "    }\n",
       "</style>\n",
       "<table border=\"1\" class=\"dataframe\">\n",
       "  <thead>\n",
       "    <tr style=\"text-align: right;\">\n",
       "      <th></th>\n",
       "      <th>user_id</th>\n",
       "      <th>revenue</th>\n",
       "    </tr>\n",
       "  </thead>\n",
       "  <tbody>\n",
       "    <tr>\n",
       "      <th>count</th>\n",
       "      <td>1805.000000</td>\n",
       "      <td>1805.000000</td>\n",
       "    </tr>\n",
       "    <tr>\n",
       "      <th>mean</th>\n",
       "      <td>205834.548476</td>\n",
       "      <td>3003.658172</td>\n",
       "    </tr>\n",
       "    <tr>\n",
       "      <th>std</th>\n",
       "      <td>116400.045485</td>\n",
       "      <td>572.619709</td>\n",
       "    </tr>\n",
       "    <tr>\n",
       "      <th>min</th>\n",
       "      <td>161.000000</td>\n",
       "      <td>2000.000000</td>\n",
       "    </tr>\n",
       "    <tr>\n",
       "      <th>25%</th>\n",
       "      <td>106815.000000</td>\n",
       "      <td>2513.000000</td>\n",
       "    </tr>\n",
       "    <tr>\n",
       "      <th>50%</th>\n",
       "      <td>206651.000000</td>\n",
       "      <td>3022.000000</td>\n",
       "    </tr>\n",
       "    <tr>\n",
       "      <th>75%</th>\n",
       "      <td>304907.000000</td>\n",
       "      <td>3478.000000</td>\n",
       "    </tr>\n",
       "    <tr>\n",
       "      <th>max</th>\n",
       "      <td>404526.000000</td>\n",
       "      <td>4000.000000</td>\n",
       "    </tr>\n",
       "  </tbody>\n",
       "</table>\n",
       "</div>"
      ],
      "text/plain": [
       "             user_id      revenue\n",
       "count    1805.000000  1805.000000\n",
       "mean   205834.548476  3003.658172\n",
       "std    116400.045485   572.619709\n",
       "min       161.000000  2000.000000\n",
       "25%    106815.000000  2513.000000\n",
       "50%    206651.000000  3022.000000\n",
       "75%    304907.000000  3478.000000\n",
       "max    404526.000000  4000.000000"
      ]
     },
     "execution_count": 84,
     "metadata": {},
     "output_type": "execute_result"
    }
   ],
   "source": [
    "#Платящие пользователи в тестовой группе\n",
    "payed_b.describe()"
   ]
  },
  {
   "cell_type": "markdown",
   "metadata": {},
   "source": [
    "*Из описательной статистики видно, что*:\n",
    "\n",
    " - Среднее значение revenue в двух группах отличается 2 663 в контрольной и 3 003.6 в тестовой.\n",
    " - Медианное значение revenue существенно отличается в двух группах - в 9.7 раз в пользу тестовой группы. \n",
    " - В контрольной группе могут присутствовать крупные выбросы - медиана и среднее отличаются друг от друга в несколько раз, максимальное значение revenue в контрольной группе - 37 433 при медиане 311."
   ]
  },
  {
   "cell_type": "markdown",
   "metadata": {},
   "source": [
    "Посмотрим на распределение данных в каждой группе на графиках"
   ]
  },
  {
   "cell_type": "markdown",
   "metadata": {},
   "source": [
    "**Диаграмма распределения**"
   ]
  },
  {
   "cell_type": "code",
   "execution_count": 85,
   "metadata": {},
   "outputs": [
    {
     "data": {
      "text/plain": [
       "<seaborn.axisgrid.FacetGrid at 0x7f28ac2489e8>"
      ]
     },
     "execution_count": 85,
     "metadata": {},
     "output_type": "execute_result"
    },
    {
     "data": {
      "image/png": "[encoded data removed]",
      "text/plain": [
       "<Figure size 360x360 with 1 Axes>"
      ]
     },
     "metadata": {
      "needs_background": "light"
     },
     "output_type": "display_data"
    },
    {
     "data": {
      "image/png": "[encoded data removed]",
      "text/plain": [
       "<Figure size 360x360 with 1 Axes>"
      ]
     },
     "metadata": {
      "needs_background": "light"
     },
     "output_type": "display_data"
    }
   ],
   "source": [
    "sns.displot(payed_a.revenue, bins=20) #график контрольной группы\n",
    "sns.displot(payed_b.revenue, bins=20) #график тестовой группы"
   ]
  },
  {
   "cell_type": "markdown",
   "metadata": {},
   "source": [
    "**Боксплот**"
   ]
  },
  {
   "cell_type": "code",
   "execution_count": 86,
   "metadata": {},
   "outputs": [
    {
     "data": {
      "text/plain": [
       "<matplotlib.axes._subplots.AxesSubplot at 0x7f289c9fbbe0>"
      ]
     },
     "execution_count": 86,
     "metadata": {},
     "output_type": "execute_result"
    },
    {
     "data": {
      "image/png": "[encoded data removed]",
      "text/plain": [
       "<Figure size 432x288 with 1 Axes>"
      ]
     },
     "metadata": {
      "needs_background": "light"
     },
     "output_type": "display_data"
    }
   ],
   "source": [
    "sns.boxplot(data=testing_df.query('revenue > 0'), y='revenue', x='testgroup')"
   ]
  },
  {
   "cell_type": "markdown",
   "metadata": {},
   "source": [
    "Из графиков видно следующее:\n",
    " - распределение в обеих группах визуально выглядит как ненормальное.\n",
    " - в контрольной группе большинство пользователей совершали платежи в пределах 0 - 3 000. И небольшая выборка пользователей совершила платеж более 35 000. На графике боксплот видно, что в контрольной группе есть крупные выбросы. \n",
    " - в тестовой группе пользователи совершали платеж от 2 000 до 4 000.\n",
    " "
   ]
  },
  {
   "cell_type": "markdown",
   "metadata": {},
   "source": [
    "Посмотрим на распределние данных в контрольной группе. Нас интересуют платящие пользователи - те, чье значение retention очень высокое и распределение значений других пользователей"
   ]
  },
  {
   "cell_type": "code",
   "execution_count": 95,
   "metadata": {},
   "outputs": [
    {
     "data": {
      "text/plain": [
       "user_id    123\n",
       "dtype: int64"
      ]
     },
     "execution_count": 95,
     "metadata": {},
     "output_type": "execute_result"
    }
   ],
   "source": [
    "#сколько у нас пользователей с очень высокими платежами, выше 30000 \n",
    "check_hire = payed_a.query('revenue > 30000') \\\n",
    "       .agg({'user_id':'nunique'})\n",
    "check_hire"
   ]
  },
  {
   "cell_type": "code",
   "execution_count": 101,
   "metadata": {},
   "outputs": [
    {
     "data": {
      "text/plain": [
       "user_id    6.38\n",
       "dtype: float64"
      ]
     },
     "execution_count": 101,
     "metadata": {},
     "output_type": "execute_result"
    }
   ],
   "source": [
    "#сколько процентов от всей платящей аудитории они составляют\n",
    "check_pr = round(check_hire / payed_a.user_id.nunique() * 100, 2)\n",
    "check_pr"
   ]
  },
  {
   "cell_type": "code",
   "execution_count": 90,
   "metadata": {},
   "outputs": [
    {
     "data": {
      "text/plain": [
       "revenue    4590252\n",
       "dtype: int64"
      ]
     },
     "execution_count": 90,
     "metadata": {},
     "output_type": "execute_result"
    }
   ],
   "source": [
    "#посмотрим, сколько выручки приходится на этот сегмент пользователей\n",
    "revenue_hire = payed_a.query('revenue > 30000').agg({'revenue':'sum'})\n",
    "revenue_hire"
   ]
  },
  {
   "cell_type": "code",
   "execution_count": 94,
   "metadata": {},
   "outputs": [
    {
     "data": {
      "text/plain": [
       "revenue    89.37\n",
       "dtype: float64"
      ]
     },
     "execution_count": 94,
     "metadata": {},
     "output_type": "execute_result"
    }
   ],
   "source": [
    "#сколько процентов от всей выручки составляет выручка этого сегмента\n",
    "revenue_pr = round(revenue_hire / group_a.revenue.sum() * 100, 2)\n",
    "revenue_pr"
   ]
  },
  {
   "cell_type": "markdown",
   "metadata": {},
   "source": [
    "На 123 пользователя с revenue выше 30000 (6.4% от всех платящих пользователей) приходится 89.4% всей выручки"
   ]
  },
  {
   "cell_type": "code",
   "execution_count": 88,
   "metadata": {},
   "outputs": [
    {
     "data": {
      "text/plain": [
       "<seaborn.axisgrid.FacetGrid at 0x7f289c90fb00>"
      ]
     },
     "execution_count": 88,
     "metadata": {},
     "output_type": "execute_result"
    },
    {
     "data": {
      "image/png": "[encoded data removed]",
      "text/plain": [
       "<Figure size 360x360 with 1 Axes>"
      ]
     },
     "metadata": {
      "needs_background": "light"
     },
     "output_type": "display_data"
    }
   ],
   "source": [
    "#сколько у нас остальных платящих пользователей и их распределение по размеру чека\n",
    "payed_less = payed_a.query('revenue > 0 and revenue < 30000') \\\n",
    "                    .groupby('revenue', as_index=False) \\\n",
    "                    .agg({'user_id':'nunique'})\n",
    "                   \n",
    "\n",
    "sns.displot(payed_less.revenue, bins=20)"
   ]
  },
  {
   "cell_type": "markdown",
   "metadata": {},
   "source": [
    "**Выводы**\n",
    "В контрольной группе у нас оказались пользователи с низкими платежами (от 200 до 400) и пользователи со высокими платежами (более 30 000, таких пользователей около 6% от всей контрольной группы).\n",
    "В тестовой группе у нас оказались пользователи со средними платежами - от 2 000 до 4 000. \n",
    "\n",
    "В контрольную группу могли попасть пользователи, которым предлагались акции на какие-то длительные предложения/подписки или эксклюзивный кастом персонажа, аммуниция. В то время как остальным пользователям с низкими платежами и пользователям тестововй группы предлагались скидочные купоны или фиксированный размер среднего или небольшого бонуса в виде игровой валюты. Нам не хватает дополнительных данных, чтобы точно сказать, почему в контрольной группе оказались пользователи с высокими чеками, которые сильно сместили среднее значение по платежам вправо (2663 при медиане 311).  \n",
    "\n",
    "Еще одно предположение, почему могло получится такое формирование контрольной и тестовой групп - изначальный недочет при дизайне исследования, который привел к неккоректному сплитованию. Но для такого вывода нужны дополнительные данные - какой тип акционных предложений предлагался пользователям + иная дополнительная информация, чтобы корректно определить принадлежность к сегментам аудитории. \n",
    "\n",
    "В нашем анализе мы будем исходить из первого предложения - A/B тестирование проведено корректно, некоторым пользователям в тестовой группе предлагались акции на более высокие по цене покупки \n",
    "\n"
   ]
  },
  {
   "cell_type": "markdown",
   "metadata": {},
   "source": [
    "### Метрики для анализа\n",
    "\n",
    "У нас есть следующая информация о пользователях - к какой группе относится пользователь, размер выручки от одного пользователя, количество всех пользователей в группе.\n",
    "\n",
    "Исходя из этой информации, мы можем считать следующие метрики для оценки качества предложений:\n",
    " - ARPU средний доход на каждого пользователя\n",
    " - ARPPU средний доход на каждого платящего пользователя\n",
    " - Конверсия в платящего пользователя\n"
   ]
  },
  {
   "cell_type": "markdown",
   "metadata": {},
   "source": [
    "#### Метрика CR конверсия в платящего пользователя"
   ]
  },
  {
   "cell_type": "code",
   "execution_count": 66,
   "metadata": {},
   "outputs": [
    {
     "data": {
      "text/plain": [
       "0.009539690157988749"
      ]
     },
     "execution_count": 66,
     "metadata": {},
     "output_type": "execute_result"
    }
   ],
   "source": [
    "#конверсия в контрольной группе\n",
    "CR_a = payed_a['user_id'].nunique() / group_a['user_id'].nunique()\n",
    "CR_a"
   ]
  },
  {
   "cell_type": "code",
   "execution_count": 39,
   "metadata": {},
   "outputs": [
    {
     "data": {
      "text/plain": [
       "0.008906235351586593"
      ]
     },
     "execution_count": 39,
     "metadata": {},
     "output_type": "execute_result"
    }
   ],
   "source": [
    "#конверсия в тестовой группе\n",
    "CR_b = payed_b['user_id'].nunique() / group_b['user_id'].nunique()\n",
    "CR_b"
   ]
  },
  {
   "cell_type": "code",
   "execution_count": 69,
   "metadata": {},
   "outputs": [
    {
     "data": {
      "text/plain": [
       "-6.640203150326494"
      ]
     },
     "execution_count": 69,
     "metadata": {},
     "output_type": "execute_result"
    }
   ],
   "source": [
    "#разница конверсий двух групп\n",
    "CR_diff = (CR_b - CR_a) / CR_a * 100\n",
    "CR_diff"
   ]
  },
  {
   "cell_type": "markdown",
   "metadata": {},
   "source": [
    "Конверсия в контрольной группе выше, чем конверсия в тестовой примерно на 6.64% "
   ]
  },
  {
   "cell_type": "markdown",
   "metadata": {},
   "source": [
    "#### Метрика ARPU средний доход с каждого пользователя"
   ]
  },
  {
   "cell_type": "code",
   "execution_count": 70,
   "metadata": {},
   "outputs": [
    {
     "data": {
      "text/plain": [
       "25.41"
      ]
     },
     "execution_count": 70,
     "metadata": {},
     "output_type": "execute_result"
    }
   ],
   "source": [
    "#ARPU контрольной группы \n",
    "ARPU_a = round(group_a.revenue.sum() / group_a.user_id.count(), 2)\n",
    "ARPU_a"
   ]
  },
  {
   "cell_type": "code",
   "execution_count": 71,
   "metadata": {},
   "outputs": [
    {
     "data": {
      "text/plain": [
       "26.75"
      ]
     },
     "execution_count": 71,
     "metadata": {},
     "output_type": "execute_result"
    }
   ],
   "source": [
    "#ARPU тестовой группы \n",
    "ARPU_b  = round(group_b.revenue.sum() / group_b.user_id.count(), 2)\n",
    "ARPU_b "
   ]
  },
  {
   "cell_type": "code",
   "execution_count": 73,
   "metadata": {},
   "outputs": [
    {
     "data": {
      "text/plain": [
       "5.27"
      ]
     },
     "execution_count": 73,
     "metadata": {},
     "output_type": "execute_result"
    }
   ],
   "source": [
    "#разница ARPU в двух группах\n",
    "ARPU_diff = round((ARPU_b - ARPU_a) / ARPU_a * 100, 2)\n",
    "ARPU_diff"
   ]
  },
  {
   "cell_type": "markdown",
   "metadata": {},
   "source": [
    "ARPU в тестовой группе выше ARPU контрольной группы на 5.27%"
   ]
  },
  {
   "cell_type": "markdown",
   "metadata": {},
   "source": [
    "#### Метрика ARPPU средний доход с каждого платящего пользователя"
   ]
  },
  {
   "cell_type": "code",
   "execution_count": 78,
   "metadata": {},
   "outputs": [
    {
     "data": {
      "text/plain": [
       "2663.61"
      ]
     },
     "execution_count": 78,
     "metadata": {},
     "output_type": "execute_result"
    }
   ],
   "source": [
    "#ARPPU контрольной группы \n",
    "ARPPU_a = round(ARPU_a / CR_a, 2)\n",
    "ARPPU_a"
   ]
  },
  {
   "cell_type": "code",
   "execution_count": 79,
   "metadata": {},
   "outputs": [
    {
     "data": {
      "text/plain": [
       "3003.51"
      ]
     },
     "execution_count": 79,
     "metadata": {},
     "output_type": "execute_result"
    }
   ],
   "source": [
    "#ARPPU тестовой группы \n",
    "ARPPU_b = round(ARPU_b / CR_b, 2)\n",
    "ARPPU_b"
   ]
  },
  {
   "cell_type": "code",
   "execution_count": 80,
   "metadata": {},
   "outputs": [
    {
     "data": {
      "text/plain": [
       "12.76"
      ]
     },
     "execution_count": 80,
     "metadata": {},
     "output_type": "execute_result"
    }
   ],
   "source": [
    "#разница ARPPU в двух группах\n",
    "ARPPU_diff = round((ARPPU_b - ARPPU_a) / ARPPU_a * 100, 2)\n",
    "ARPPU_diff"
   ]
  },
  {
   "cell_type": "markdown",
   "metadata": {},
   "source": [
    "ARPPU в тестовой группе выше ARPPU контрольной группы на 12.76%"
   ]
  },
  {
   "cell_type": "markdown",
   "metadata": {},
   "source": [
    "#### Проверим тестовую и контрольную группу на нормальность и однородность распределения данных"
   ]
  },
  {
   "cell_type": "code",
   "execution_count": 109,
   "metadata": {},
   "outputs": [
    {
     "data": {
      "text/html": [
       "<div>\n",
       "<style scoped>\n",
       "    .dataframe tbody tr th:only-of-type {\n",
       "        vertical-align: middle;\n",
       "    }\n",
       "\n",
       "    .dataframe tbody tr th {\n",
       "        vertical-align: top;\n",
       "    }\n",
       "\n",
       "    .dataframe thead th {\n",
       "        text-align: right;\n",
       "    }\n",
       "</style>\n",
       "<table border=\"1\" class=\"dataframe\">\n",
       "  <thead>\n",
       "    <tr style=\"text-align: right;\">\n",
       "      <th></th>\n",
       "      <th>W</th>\n",
       "      <th>pval</th>\n",
       "      <th>normal</th>\n",
       "    </tr>\n",
       "  </thead>\n",
       "  <tbody>\n",
       "    <tr>\n",
       "      <th>user_id</th>\n",
       "      <td>0.954992</td>\n",
       "      <td>6.270089e-24</td>\n",
       "      <td>False</td>\n",
       "    </tr>\n",
       "    <tr>\n",
       "      <th>revenue</th>\n",
       "      <td>0.266792</td>\n",
       "      <td>0.000000e+00</td>\n",
       "      <td>False</td>\n",
       "    </tr>\n",
       "  </tbody>\n",
       "</table>\n",
       "</div>"
      ],
      "text/plain": [
       "                W          pval  normal\n",
       "user_id  0.954992  6.270089e-24   False\n",
       "revenue  0.266792  0.000000e+00   False"
      ]
     },
     "execution_count": 109,
     "metadata": {},
     "output_type": "execute_result"
    }
   ],
   "source": [
    "#проверка на нормальность распределения данных в контрольной группе\n",
    "pg.normality(group_a.query('revenue > 0'))"
   ]
  },
  {
   "cell_type": "code",
   "execution_count": 110,
   "metadata": {},
   "outputs": [
    {
     "data": {
      "text/html": [
       "<div>\n",
       "<style scoped>\n",
       "    .dataframe tbody tr th:only-of-type {\n",
       "        vertical-align: middle;\n",
       "    }\n",
       "\n",
       "    .dataframe tbody tr th {\n",
       "        vertical-align: top;\n",
       "    }\n",
       "\n",
       "    .dataframe thead th {\n",
       "        text-align: right;\n",
       "    }\n",
       "</style>\n",
       "<table border=\"1\" class=\"dataframe\">\n",
       "  <thead>\n",
       "    <tr style=\"text-align: right;\">\n",
       "      <th></th>\n",
       "      <th>W</th>\n",
       "      <th>pval</th>\n",
       "      <th>normal</th>\n",
       "    </tr>\n",
       "  </thead>\n",
       "  <tbody>\n",
       "    <tr>\n",
       "      <th>user_id</th>\n",
       "      <td>0.957396</td>\n",
       "      <td>1.453523e-22</td>\n",
       "      <td>False</td>\n",
       "    </tr>\n",
       "    <tr>\n",
       "      <th>revenue</th>\n",
       "      <td>0.958312</td>\n",
       "      <td>2.491346e-22</td>\n",
       "      <td>False</td>\n",
       "    </tr>\n",
       "  </tbody>\n",
       "</table>\n",
       "</div>"
      ],
      "text/plain": [
       "                W          pval  normal\n",
       "user_id  0.957396  1.453523e-22   False\n",
       "revenue  0.958312  2.491346e-22   False"
      ]
     },
     "execution_count": 110,
     "metadata": {},
     "output_type": "execute_result"
    }
   ],
   "source": [
    "#проверка на нормальность распределения данных в тестовой группе\n",
    "pg.normality(group_b.query('revenue > 0'))"
   ]
  },
  {
   "cell_type": "markdown",
   "metadata": {},
   "source": [
    "Обе группы имеют ненормальное распределение "
   ]
  },
  {
   "cell_type": "code",
   "execution_count": 102,
   "metadata": {},
   "outputs": [
    {
     "name": "stdout",
     "output_type": "stream",
     "text": [
      "Статистика теста Левена: 80.85567421779912\n",
      "p-значение теста Левена: 3.779689868667878e-19\n"
     ]
    }
   ],
   "source": [
    "#проверка на однородность распределения данных\n",
    "from scipy.stats import levene\n",
    "\n",
    "# Пример использования теста Левена\n",
    "statistic, p_value = levene(payed_a['revenue'], payed_b['revenue'])\n",
    "\n",
    "# Вывод результатов теста\n",
    "print('Статистика теста Левена:', statistic)\n",
    "print('p-значение теста Левена:', p_value)"
   ]
  },
  {
   "cell_type": "markdown",
   "metadata": {},
   "source": [
    "Полученное значение p-value значительно меньше заданного уровня значимости в 5%. Поэтому мы отвергаем нулевую гипотезу и делаем вывод о неоднородности дисперсий между группами. "
   ]
  },
  {
   "cell_type": "markdown",
   "metadata": {},
   "source": [
    "### Статистические тесты "
   ]
  },
  {
   "cell_type": "markdown",
   "metadata": {},
   "source": [
    "#### Метрика CR\n",
    "\n",
    "Для сравнения значения конверсий в двух группах мы будем использовать критерий X-квадрат, так как это категориальная переменная - конверсия либо есть, либо ее нет у пользователя. \n",
    "- Нулевая гипотеза - отсутствуют статистически значимые различия между конверсиями двух групп \n",
    "- Альтернативная гипотеза - есть статистически значимые различия между конверсиями двух групп \n",
    "\n",
    "уровень значимости - 5% (0.05)"
   ]
  },
  {
   "cell_type": "code",
   "execution_count": 117,
   "metadata": {},
   "outputs": [
    {
     "data": {
      "text/html": [
       "<div>\n",
       "<style scoped>\n",
       "    .dataframe tbody tr th:only-of-type {\n",
       "        vertical-align: middle;\n",
       "    }\n",
       "\n",
       "    .dataframe tbody tr th {\n",
       "        vertical-align: top;\n",
       "    }\n",
       "\n",
       "    .dataframe thead th {\n",
       "        text-align: right;\n",
       "    }\n",
       "</style>\n",
       "<table border=\"1\" class=\"dataframe\">\n",
       "  <thead>\n",
       "    <tr style=\"text-align: right;\">\n",
       "      <th>testgroup</th>\n",
       "      <th>a</th>\n",
       "      <th>b</th>\n",
       "    </tr>\n",
       "    <tr>\n",
       "      <th>paid/nopaid</th>\n",
       "      <th></th>\n",
       "      <th></th>\n",
       "    </tr>\n",
       "  </thead>\n",
       "  <tbody>\n",
       "    <tr>\n",
       "      <th>0</th>\n",
       "      <td>200175</td>\n",
       "      <td>200862</td>\n",
       "    </tr>\n",
       "    <tr>\n",
       "      <th>1</th>\n",
       "      <td>1928</td>\n",
       "      <td>1805</td>\n",
       "    </tr>\n",
       "  </tbody>\n",
       "</table>\n",
       "</div>"
      ],
      "text/plain": [
       "testgroup         a       b\n",
       "paid/nopaid                \n",
       "0            200175  200862\n",
       "1              1928    1805"
      ]
     },
     "execution_count": 117,
     "metadata": {},
     "output_type": "execute_result"
    }
   ],
   "source": [
    "#создаем новыйй столбец в testing_df, где 0 - конверсии нет, а 1 - конверсия есть \n",
    "testing_df['paid/nopaid'] = testing_df['revenue'].apply(lambda x: 1 if x > 0 else 0)\n",
    "\n",
    "# Создание таблицы сопряженности\n",
    "crosstab_result = pd.crosstab(testing_df['paid/nopaid'], testing_df['testgroup'])\n",
    "crosstab_result"
   ]
  },
  {
   "cell_type": "code",
   "execution_count": 118,
   "metadata": {},
   "outputs": [
    {
     "name": "stdout",
     "output_type": "stream",
     "text": [
      "Хи-квадрат статистика: 4.374729521260405\n",
      "p-значение: 0.03647561892312613\n"
     ]
    }
   ],
   "source": [
    "#Выполняем тест хи-квадрат\n",
    "from scipy.stats import chi2_contingency\n",
    "chi2, p, dof, expected = chi2_contingency(crosstab_result)\n",
    "\n",
    "print(\"Хи-квадрат статистика:\", chi2)\n",
    "print(\"p-значение:\", p)"
   ]
  },
  {
   "cell_type": "markdown",
   "metadata": {},
   "source": [
    "Полученное значение p-value не превышает 5% уровень значимости (тест показал 0.036). Следовательно, мы можем отклонить нулевую гипотезу и принять альтернативную, что конверсии между двумя группами статистически различаются"
   ]
  },
  {
   "cell_type": "markdown",
   "metadata": {},
   "source": [
    "#### Метрика ARPU\n",
    "В тестовой группе из-за наличия выбросов, а также ненормальности распределений в обеих группах, мы будем использовать метод bootstrap для сравнения двух средних в группах \n",
    "- Нулевая гипотеза - среднее значение выручки одного пользователя в тестовой группе статистически значимо не отличается от среднего значения выручки одного пользователя в контрольной группе\n",
    "- Альтернативная гипотеза - среднее значение выручки одного пользователя в тестовой группе статистически значимо отличается от среднего значения выручки одного пользователя в контрольной группе\n",
    "\n",
    "если 0 входит в доверительный интервал, то мы принимаем нулевую гипотезу, если 0 не входит в доверительный интервал - отвергаем нулевую гипотезу и принимаем альтернативную \n"
   ]
  },
  {
   "cell_type": "code",
   "execution_count": 167,
   "metadata": {
    "scrolled": true
   },
   "outputs": [
    {
     "name": "stdout",
     "output_type": "stream",
     "text": [
      "95% доверительный интервал: [-5.75010277  2.87703165]\n",
      "p-значение: 0.625\n"
     ]
    }
   ],
   "source": [
    "#данные о выручке пользователей контрольной и тестовой групп\n",
    "group1 = group_a.revenue\n",
    "group2 = group_b.revenue\n",
    "\n",
    "num_samples = 1000\n",
    "bootstrap_diff_means = np.zeros(num_samples)\n",
    "\n",
    "\n",
    "for i in range(num_samples):\n",
    "    bootstrap_sample1 = np.random.choice(group1, size=len(group1), replace=True)\n",
    "    bootstrap_sample2 = np.random.choice(group2, size=len(group2), replace=True)\n",
    "    \n",
    "    bootstrap_mean1 = np.mean(bootstrap_sample1)\n",
    "    bootstrap_mean2 = np.mean(bootstrap_sample2)\n",
    "    \n",
    "    bootstrap_diff_means[i] = bootstrap_mean1 - bootstrap_mean2\n",
    "    \n",
    "# Вычисление 95%-го доверительного интервала для разницы средних\n",
    "interval = np.percentile(bootstrap_diff_means, [2.5, 97.5])\n",
    "\n",
    "# Рассчитываем p-value \n",
    "mean_observ = np.mean(group1) - np.mean(group2)\n",
    "p_value = np.mean(np.abs(bootstrap_diff_means) >= np.abs(mean_observ))\n",
    "\n",
    "print(\"95% доверительный интервал:\", interval)\n",
    "print(\"p-значение:\", p_value)"
   ]
  },
  {
   "cell_type": "markdown",
   "metadata": {},
   "source": [
    "Доверительный интервал лежит в диапозоне от -5.75 до 2.87. Ноль входит в данный диапозон, p-value = 0.625, мы не можем отклонить нулевую гипотезу. Между средними значениями выручки на одного пользователи контрольнйо и тестовой группы нет статистически значимых отличий. "
   ]
  },
  {
   "cell_type": "markdown",
   "metadata": {},
   "source": [
    "#### Метрика ARPPU -  средний доход с каждого платящего пользователя\n",
    "\n",
    "мы будем также использовать метод bootstrap для сравнения двух средних в группах\n",
    "\n",
    "Нулевая гипотеза - среднее значение выручки одного платящего пользователя в тестовой группе статистически значимо не отличается от среднего значения выручки одного платящего пользователя в контрольной группе\n",
    "Альтернативная гипотеза - среднее значение выручки одного платящего пользователя в тестовой группе статистически значимо отличается от среднего значения выручки одного платящего пользователя в контрольной группе"
   ]
  },
  {
   "cell_type": "code",
   "execution_count": 170,
   "metadata": {},
   "outputs": [
    {
     "name": "stdout",
     "output_type": "stream",
     "text": [
      "95% доверительный интервал: [-721.08692624   69.28386343]\n",
      "p-значение: 0.503\n"
     ]
    }
   ],
   "source": [
    "#данные о выручке платящих пользователей контрольной и тестовой групп payed_a и payed_b\n",
    "group_1 = payed_a.revenue\n",
    "group_2 = payed_b.revenue\n",
    "\n",
    "num_samples = 1000\n",
    "bootstrap_diff = np.zeros(num_samples)\n",
    "\n",
    "\n",
    "for i in range(num_samples):\n",
    "    bootstrap_sample_1 = np.random.choice(group_1, size=len(group_1), replace=True)\n",
    "    bootstrap_sample_2 = np.random.choice(group_2, size=len(group_2), replace=True)\n",
    "    \n",
    "    bootstrap_mean_1 = np.mean(bootstrap_sample_1)\n",
    "    bootstrap_mean_2 = np.mean(bootstrap_sample_2)\n",
    "    \n",
    "    bootstrap_diff[i] = bootstrap_mean_1 - bootstrap_mean_2\n",
    "    \n",
    "# Вычисление 95%-го доверительного интервала для разницы средних\n",
    "interval = np.percentile(bootstrap_diff, [2.5, 97.5])\n",
    "\n",
    "# Рассчитываем p-value \n",
    "mean_observation = np.mean(group_1) - np.mean(group_2)\n",
    "p_value = np.mean(np.abs(bootstrap_diff) >= np.abs(mean_observation))\n",
    "\n",
    "print(\"95% доверительный интервал:\", interval)\n",
    "print(\"p-значение:\", p_value)"
   ]
  },
  {
   "cell_type": "markdown",
   "metadata": {},
   "source": [
    "Доверительный интервал лежит в диапозоне от -721 до 69.3. Ноль входит в данный диапозон, p-value = 0.503, мы не можем отклонить нулевую гипотезу. Между средними значениями выручки платящего пользователи контрольной и тестовой группы нет статистически значимых отличий."
   ]
  },
  {
   "cell_type": "markdown",
   "metadata": {},
   "source": [
    "### Выводы\n",
    "1. Наборы акционных предложений не повлияли на значения ARPU и ARPPU в тестовой и контрольной группах, имеющиеся различия статистически не значимы\n",
    "2. Конверсия в покупки выше в контрольной группе, эти различия статистически значимы. \n",
    "\n",
    "**Акционные предложения не влияют на размер выручки, они требуют доработки и на данный момент не могут быть внедрены для всех пользователей**\n",
    "\n",
    "в тестовой группе есть выбросы, которые повлияли на размер среднего чека в сторону увеличения - их стоит дополнительно проанализировать, выявить причину их появления только в одной группе "
   ]
  },
  {
   "cell_type": "markdown",
   "metadata": {},
   "source": [
    "# Задача 3."
   ]
  },
  {
   "cell_type": "markdown",
   "metadata": {},
   "source": [
    "В игре Plants & Gardens каждый месяц проводятся тематические события, ограниченные по времени. В них игроки могут получить уникальные предметы для сада и персонажей, дополнительные монеты или бонусы. Для получения награды требуется пройти ряд уровней за определенное время. С помощью каких метрик можно оценить результаты последнего прошедшего события?\n",
    "\n",
    "В другом событии усложнили механику событий так, что при каждой неудачной попытке выполнения уровня игрок будет откатываться на несколько уровней назад."
   ]
  },
  {
   "cell_type": "markdown",
   "metadata": {},
   "source": [
    "**Метрики для оценивания последнего прошедшего события с механикой выдачи награды**\n",
    "\n",
    "- Retention:\n",
    "Retention 1 дня - сколько уникальных игроков участвовали в первом дне события. Retention N-дня - % игроков, продолживших играть после первого входа в игру на тематическом событии, которое длится несколько дней. Либо это может быть Retention 30 минут, Retention N-часа - если тематическое событие ограничено несколькими часами. \n",
    "\n",
    "- Конверсия пользователей - оценка, какая часть пользователей, участвовавших в тематическом событии в 1 раз, переходят в активные пользователи и доходят до следующего тематического события.\n",
    "\n",
    "- Return Rate - процент возврата в игру пользователей, уже игравших ранее. Можно оценивать, какая часть игроков возвращается в игру постоянно только во время тематических событий, а какая часть вовзращается и в обычные дни.\n",
    "Регулярность входа в игру - насколько часто пользователь запускает игру. Временной промежуток час/день/неделя/месяц. В тематические события с механикой бонусов оба показатели будут выше, чем в обычные дни. \n",
    "\n",
    "- Churn Rate - процент потери аудитории. Какой процент аудитории уходит во время тематических событий и в обычные дни. В тематические дни показатель будет снижаться, если механика тематического дня - получение дополнительных бонусов за прохождение игры.  \n",
    "\n",
    "- Успешность игроков - какая часть игроков полностью прошла тематическое событие, прошла 80-50-25% сюжета тематического события.\n",
    "\n",
    "- Средний % полученных предметов - сколько пользователей получили более 90-80-50-иной процент разыгрываемых предметов.\n",
    "\n",
    "- Среднее время игровой сессии - сколько времени игрок проходит в игре за 1 вход. В тематическом событии с бонусами и ограниченным временем показатель может снизиться. \n",
    "\n",
    "- Среднее количество пройденных уровней за N-период - сколько в среднем 1 игрок проходит уровней за день/неделю/другой временной промежуток. В тематические события показатель может быть выше, чем в обычные дни.\n",
    "\n",
    "- Оценка/отзывы пользователей \n",
    "\n",
    "*дополнительная метрика\n",
    "Если в игре есть платные товары, то можно оценить: какие категории товаров приобретает игрок во время тематического события и в обычные дни, сколько товаров в среднем приобретает игрок и средний платеж на пользователя (ARPU/ARPPU) в обычные дни и тематические. \n",
    "\n",
    "**Метрики для оценивания тематического события с откатом уровней**\n",
    "\n",
    "Здесь игрокам предлагается механика штрафной системы - когда за 1 недучную попытку пользователь откатывается на N-уровней назад. В этом случае набор метрик изменится.\n",
    "\n",
    " \n",
    "- Retention N-дня - сколько пользователей возвращаются в игру после участия в 1 дне/1 часе тематического события. Из-за усложнения механики значения метрики могут быть ниже, чем в обычные дни. \n",
    "\n",
    "- Конверсия пользователей - сколько новых пользователей переходят в категорию активных пользователей. \n",
    "\n",
    "- Return Rate - процент возврата в игру пользователей, уже игравших ранее. \n",
    "\n",
    "- Churn Rate - процент потери аудитории. Можно считать в разных разрезах - уровни/период времени\n",
    "\n",
    "- Успешность игроков - какая часть игроков успешно завершило тематическое событие, прошла все уровни, которые относились к тематическому событию. \n",
    "\n",
    "- Среднее время игровой сессии за 1 вход - можно считать когортами, основываясь на количество пройденных уровней. Сколько времени пользователь провел за игрой при прохождении 1-3 уровней, 4-5 уровней и далее. \n",
    "\n",
    "- Среднее время нахождения на 1 уровне - сколько в среднем 1 пользователь удерживал свой уровень во время прохождения игры. \n",
    "\n",
    "- Среднее количество пройденных уровней за N-период - из-за усложнения механики может уменьшиться. \n",
    "- Среднее количество попыток - сколько в среднем 1 пользователь пытался пройти 1 уровень\n",
    "\n",
    "- Оценка/отзывы пользователей \n",
    "\n"
   ]
  }
 ],
 "metadata": {
  "kernelspec": {
   "display_name": "Python 3",
   "language": "python",
   "name": "python3"
  },
  "language_info": {
   "codemirror_mode": {
    "name": "ipython",
    "version": 3
   },
   "file_extension": ".py",
   "mimetype": "text/x-python",
   "name": "python",
   "nbconvert_exporter": "python",
   "pygments_lexer": "ipython3",
   "version": "3.7.3"
  }
 },
 "nbformat": 4,
 "nbformat_minor": 4
}
